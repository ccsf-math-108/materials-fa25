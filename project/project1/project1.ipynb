{
 "cells": [
  {
   "cell_type": "code",
   "execution_count": null,
   "id": "6cb01617",
   "metadata": {
    "deletable": false,
    "editable": false
   },
   "outputs": [],
   "source": [
    "# Initialize Otter\n",
    "import otter\n",
    "grader = otter.Notebook(\"project1.ipynb\")"
   ]
  },
  {
   "cell_type": "markdown",
   "id": "05657e37-8dbe-4947-82e9-9ad55f920d3f",
   "metadata": {},
   "source": [
    "<img src=\"./ccsf.png\" alt=\"CCSF Logo\" width=200px style=\"margin:0px -5px\">"
   ]
  },
  {
   "cell_type": "markdown",
   "id": "8c8089db-7ae9-4e66-909e-3ab7184c7a9d",
   "metadata": {},
   "source": [
    "# Project 1: Midterm Project"
   ]
  },
  {
   "cell_type": "markdown",
   "id": "396086a3-d5e6-474d-8829-8ce0063c6acc",
   "metadata": {},
   "source": [
    "In this project, you will utilize the skills and concepts you've learned so far in the course to re-create and explore research surrounding cardiovascular disease, which is the leading cause of death in the United States according to the [U.S. Centers for Disease Control and Prevention](https://www.cdc.gov/nchs/fastats/leading-causes-of-death.htm) (CDC).\n"
   ]
  },
  {
   "cell_type": "markdown",
   "id": "5726b23f-9219-4dd0-8acc-7ad9e02de0a6",
   "metadata": {},
   "source": [
    "---"
   ]
  },
  {
   "cell_type": "markdown",
   "id": "9d79c662-79d6-47b2-a121-605a8cb7a895",
   "metadata": {},
   "source": [
    "## 🎗️ Assignment Reminders"
   ]
  },
  {
   "cell_type": "markdown",
   "id": "558bcd27-4795-45ed-99ed-3c20943c63d8",
   "metadata": {},
   "source": [
    "As you work on this project, consider the following:\n",
    "- **Initialize Otter.** 🚨 Make sure to run the code cell at the top of this notebook that starts with `# Initialize Otter` to load the auto-grader.\n",
    "- **Complete the Tasks.** Your Tasks are categorized as auto-graded (📍) and manually graded (📍🔎).\n",
    "    - For all the auto-graded tasks:\n",
    "        - Replace the `...` in the provided code cell with your own code.\n",
    "        - Run the `grader.check` code cell to run some tests on your code.\n",
    "        - Keep in mind that for homework and project assignments, sometimes there are hidden tests that you will not be able to see the results of that we use for scoring the correctness of your response. **Passing the auto-grader does not guarantee that your answer is correct.**\n",
    "    - For all the manually graded tasks:\n",
    "        - You might need to provide your own response to the provided prompt. Do so by replacing the template text \"_Type your answer here, replacing this text._\" with your own words.\n",
    "        - You might need to produce a graphic or something else using code. Do so by replacing the `...` in the code cell to generate the image, table, etc.\n",
    "        - In either case, [review the rubric](https://community.canvaslms.com/t5/Student-Guide/How-do-I-view-the-rubric-for-my-assignment/ta-p/275) on the associated <a href=\"https://ccsf.instructure.com\" target=\"_blank\">Canvas</a> Assignment page to understand the scoring criteria.\n",
    "- **Code Sharing.** By submitting this project, you agree that you will not share your code directly with anybody but your partner. You are welcome to discuss questions with others but don't share the answers directly. The experience of solving the problems in this project will prepare you for our exams and potentially for future work in this field. If someone asks you for the answer, resist! Instead, you can demonstrate how you would solve a similar problem or you can focus on a specific part of a task.\n",
    "- **Support.** You are not alone! Review the [Course Support page](https://ccsf-math-108.github.io/materials-sp25/resources/course-support.html) for how to get support in this course. If you're ever feeling overwhelmed or don't know how to make progress, talk to your instructor or a tutor.\n",
    "- **Advice.** Develop your answers incrementally. To perform a complicated table manipulation, break it up into steps, perform each step on a different line, give a new name to each result, and check that each intermediate result is what you expect. You can add any additional names or functions you want to the provided cells. Make sure that you are using distinct and meaningful variable names throughout the notebook.\n",
    "- **Variable Names.** Throughout this assignment and all future ones, please be sure to not re-assign variables throughout the notebook! _For example, if you use `max_temperature` in your answer to one question, do not reassign it later on. Otherwise, you will fail tests that you thought you were passing previously!_\n",
    "- **Re-Submitting.** You may [submit](#🏁-Submit-Your-Assignment-to-Canvas) this assignment as many times as you want before the deadline. Your instructor will score the last version you submit once the deadline has passed.\n"
   ]
  },
  {
   "cell_type": "markdown",
   "id": "6fceac2e-8ed1-4f0f-aac2-b21555aef6b7",
   "metadata": {},
   "source": [
    "---"
   ]
  },
  {
   "cell_type": "markdown",
   "id": "b2542c04-28d5-426e-9d33-b83f0246fc2d",
   "metadata": {},
   "source": [
    "## Configure the Notebook"
   ]
  },
  {
   "cell_type": "markdown",
   "id": "2464e813-5478-4e21-b075-27a6e057da1f",
   "metadata": {},
   "source": [
    "Run the following cell to configure this Notebook."
   ]
  },
  {
   "cell_type": "code",
   "execution_count": null,
   "id": "61d6975f-70c6-4465-ad58-b8d84b11ea59",
   "metadata": {},
   "outputs": [],
   "source": [
    "from datascience import *\n",
    "import numpy as np\n",
    "%matplotlib inline\n",
    "import matplotlib.pyplot as plt\n",
    "plt.style.use('fivethirtyeight')"
   ]
  },
  {
   "cell_type": "markdown",
   "id": "656edcc8-e7db-4751-a730-a115dcc599dc",
   "metadata": {},
   "source": [
    "---"
   ]
  },
  {
   "cell_type": "markdown",
   "id": "e743d97d-c1cb-4cf4-9853-95917286ed7d",
   "metadata": {},
   "source": [
    "## 📈 Section 1: Leading Causes of Death"
   ]
  },
  {
   "cell_type": "markdown",
   "id": "17c89814-5f76-4e5a-ae78-3e9b255e4017",
   "metadata": {},
   "source": [
    "The [National Center for Health Statistics (NCHS)](https://www.cdc.gov/nchs/about/index.html) is part of the CDC and serves as the nation's principal health statistics agency. Their data provide insights into the health of people across the United States and how their health changes over time. The following table from the [NCHS Data Brief No. 521](https://www.cdc.gov/nchs/products/databriefs/db521.htm) published on December 2024 shows the leading causes of death in the U.S. for 2023.\n",
    "\n",
    "\n",
    "| Cause of Death                                      | Number of Deaths per 100,000 U.S. Standard Population |\n",
    "|-----------------------------------------------------|------------------|\n",
    "| Heart disease                                      | 162.1          |\n",
    "| Cancer                                            | 141.8         |\n",
    "| Unintentional Injuries               | 62.3          |\n",
    "| Stroke                  | 39         |\n",
    "| Chronic lower respiratory diseases                 | 33.4         |\n",
    "| Alzheimer disease                                | 27.7          |\n",
    "| Diabetes                                          | 22.4          |\n",
    "| Kidney disease                                    | 13.1 |\n",
    "| Chronic liver disease and cirrhosis                | 13.0          |\n",
    "| COVID-19                                          | 11.9        |\n",
    "\n",
    "From the table, you should see that **the number one cause of death in the U.S. for 2023 was heart disease**. Has this always been the case?"
   ]
  },
  {
   "cell_type": "markdown",
   "id": "723a6904-961f-4859-8eeb-7b778eb6cbf0",
   "metadata": {},
   "source": [
    "---"
   ]
  },
  {
   "cell_type": "markdown",
   "id": "160ec54b-23ea-4117-9084-d7b249846ae0",
   "metadata": {},
   "source": [
    "### The Data"
   ]
  },
  {
   "cell_type": "markdown",
   "id": "f8ab2856-cba6-4afc-8b46-7e0718c1337c",
   "metadata": {},
   "source": [
    "The CSV file called `causes_of_death.csv` contains the age-adjusted death rates for heart disease, cancer, unintentional injuries, and stroke from 1900 through 2023. Run the following code cell to create the table called `causes_of_death` from the data in `causes_of_death.csv`.\n",
    "\n",
    "**Note**: An age-adjusted death rate is a mortality rate standardized to a specific age distribution, enabling fair comparisons between populations with different age structures. The following table presents the number of deaths per 100,000 people in the U.S. standard population."
   ]
  },
  {
   "cell_type": "code",
   "execution_count": null,
   "id": "635ea14c-8143-4341-b37d-09d761bb6471",
   "metadata": {},
   "outputs": [],
   "source": [
    "causes_of_death = Table.read_table('causes_of_death.csv')\n",
    "causes_of_death"
   ]
  },
  {
   "cell_type": "markdown",
   "id": "5f5c62db-799e-47f6-b2f3-3bf4635f6f97",
   "metadata": {},
   "source": [
    "---"
   ]
  },
  {
   "cell_type": "markdown",
   "id": "91134ad6-dc5b-44ca-ae81-bd8676c9acaa",
   "metadata": {
    "tags": []
   },
   "source": [
    "### Task 1.1 📍"
   ]
  },
  {
   "cell_type": "markdown",
   "id": "e14c1da8-ff9c-4b55-9450-7ac0ed9f0619",
   "metadata": {
    "deletable": false,
    "editable": false
   },
   "source": [
    "What year is associated with the maximum age-adjusted death rate for heart disease? Using `causes_of_death` and table methods, assign `max_heart_death_rate_year` to the year (`int`) associated with the highest age-adjusted death rate.\n",
    "\n",
    "_Points:_ 2"
   ]
  },
  {
   "cell_type": "code",
   "execution_count": null,
   "id": "50b3329e-da5c-49d3-b711-d72d8f342297",
   "metadata": {
    "tags": [
     "otter_answer_cell"
    ]
   },
   "outputs": [],
   "source": [
    "max_heart_death_rate_year = ...\n",
    "max_heart_death_rate_year"
   ]
  },
  {
   "cell_type": "code",
   "execution_count": null,
   "id": "5f9edb97",
   "metadata": {
    "deletable": false,
    "editable": false
   },
   "outputs": [],
   "source": [
    "grader.check(\"task_1_1\")"
   ]
  },
  {
   "cell_type": "markdown",
   "id": "33c8e9c1-720d-48f3-98c7-86969103c257",
   "metadata": {},
   "source": [
    "---"
   ]
  },
  {
   "cell_type": "markdown",
   "id": "50777568-86b9-42ec-82e7-85031595a6a1",
   "metadata": {
    "tags": []
   },
   "source": [
    "### Task 1.2 📍"
   ]
  },
  {
   "cell_type": "markdown",
   "id": "eb4fde09-ad62-49a5-9dc9-da95611640af",
   "metadata": {
    "deletable": false,
    "editable": false
   },
   "source": [
    "Soon, we will have you visualize the trend in these death rates, but you will need to re-organize the data first. To prepare for that, create a function called `first` that returns the first element of an array provided as input. For example, `first(make_array(1, 2, 3))` should return `1`.\n",
    "\n",
    "_Points:_ 2"
   ]
  },
  {
   "cell_type": "code",
   "execution_count": null,
   "id": "a151ea30-36ef-40e2-9dc0-f19729e606d1",
   "metadata": {
    "tags": [
     "otter_answer_cell"
    ]
   },
   "outputs": [],
   "source": [
    "..."
   ]
  },
  {
   "cell_type": "code",
   "execution_count": null,
   "id": "1dc3a6a8",
   "metadata": {
    "deletable": false,
    "editable": false
   },
   "outputs": [],
   "source": [
    "grader.check(\"task_1_2\")"
   ]
  },
  {
   "cell_type": "markdown",
   "id": "9b051b42-b7e9-4106-a011-fed176dbed2c",
   "metadata": {},
   "source": [
    "---"
   ]
  },
  {
   "cell_type": "markdown",
   "id": "de256e61-9ac6-45ab-97d4-1e8a23f9ad9c",
   "metadata": {
    "tags": []
   },
   "source": [
    "### Task 1.3 📍"
   ]
  },
  {
   "cell_type": "markdown",
   "id": "3c5edebf-93ed-491c-a0f4-8da83ae4ec5b",
   "metadata": {
    "deletable": false,
    "editable": false
   },
   "source": [
    "From `causes_of_death`, create a table called `causes_for_plotting`. \n",
    "* The table should have the columns `'Year'`,`'Cancer'`, '`Heart Disease'`, `'Stroke'`, and `'Unintentional Injuries'` presented in that order.\n",
    "* Each row should contain the year and the relevant age-adjusted death rates for each year.\n",
    "* The data in the table should be sorted in ascending order based on the years.\n",
    "\n",
    "The first row should contain the following information:\n",
    "\n",
    "|Year|Cancer|Heart Disease|Stroke|Unintentional Injuries|\n",
    "|---:|---:|---:|---:|---:|\n",
    "|1900|114.8|265.4|244.2|90.3|\n",
    "\n",
    "_Points:_ 3"
   ]
  },
  {
   "cell_type": "code",
   "execution_count": null,
   "id": "64144964-97bd-4a5f-902f-877ba020aa12",
   "metadata": {
    "tags": [
     "otter_answer_cell"
    ]
   },
   "outputs": [],
   "source": [
    "causes_for_plotting = ...\n",
    "causes_for_plotting"
   ]
  },
  {
   "cell_type": "code",
   "execution_count": null,
   "id": "fb046666",
   "metadata": {
    "deletable": false,
    "editable": false
   },
   "outputs": [],
   "source": [
    "grader.check(\"task_1_3\")"
   ]
  },
  {
   "cell_type": "markdown",
   "id": "d4a54207-4afe-4406-af27-4c2340c7bbe5",
   "metadata": {},
   "source": [
    "---"
   ]
  },
  {
   "cell_type": "markdown",
   "id": "847c7f64-5283-420c-bec4-b3da85d750ff",
   "metadata": {
    "tags": []
   },
   "source": [
    "### Task 1.4 📍🔎"
   ]
  },
  {
   "cell_type": "markdown",
   "id": "c9724f57-eba4-4d0d-975d-77c2d90b2ccb",
   "metadata": {
    "deletable": false,
    "editable": false
   },
   "source": [
    "<!-- BEGIN QUESTION -->\n",
    "\n",
    "Using `causes_for_plotting`, visualize the trend of death rates for each of the 4 leading causes of death by year.\n",
    "\n",
    "_Points:_ 2"
   ]
  },
  {
   "cell_type": "code",
   "execution_count": null,
   "id": "6b100464-aee5-4945-b47d-1326a4d78fb5",
   "metadata": {
    "tags": [
     "otter_answer_cell"
    ]
   },
   "outputs": [],
   "source": [
    "....\n",
    "\n",
    "# Keep this code to give your image a title\n",
    "plt.title('Age-Adjusted Death Rates over Time')\n",
    "plt.show()"
   ]
  },
  {
   "cell_type": "markdown",
   "id": "ba1aae9a-3637-453f-b422-fca9aea49228",
   "metadata": {
    "deletable": false,
    "editable": false,
    "slideshow": {
     "slide_type": "fragment"
    }
   },
   "source": [
    "<!-- END QUESTION -->\n",
    "\n",
    "---"
   ]
  },
  {
   "cell_type": "markdown",
   "id": "4a007d7c-d651-4643-ae76-d2536e868b33",
   "metadata": {},
   "source": [
    "### Epidemiological Transition"
   ]
  },
  {
   "cell_type": "markdown",
   "id": "d4feb0bb-b9d4-41da-ac24-a2665d3b2eb8",
   "metadata": {},
   "source": [
    "In many countries like the U.S., infectious diseases have declined over time—aside from pandemics in the early 20th and 21st centuries—while chronic diseases have become more prevalent. This shift, known as the epidemiological transition, highlights the growing burden of conditions like heart disease. \n",
    "\n",
    "Epidemiological studies investigate how diseases and other health conditions affect populations by identifying differences between those who develop a condition and those who do not. Originally focused on epidemics, epidemiology evolved to study the natural history of diseases and their contributing factors, with the goal of control and prevention. While it may not always resolve fundamental disease mechanisms, it helps identify key risk factors and their relative importance. Historical successes, such as John Snow’s cholera investigation, demonstrated that disease control is possible without fully understanding the underlying pathology by interrupting causal pathways. By the mid-1940s, epidemiology had proven effective in studying various health conditions, making it a promising approach for cardiovascular disease (CVD) research. \n",
    "\n",
    "The decline in heart disease-related deaths over the past half-century is one of public health's greatest achievements. Notably, the Framingham Heart Study was the first formal study to establish associations between heart disease and key risk factors such as smoking, high cholesterol, high blood pressure, obesity, and physical inactivity.  "
   ]
  },
  {
   "cell_type": "markdown",
   "id": "e959dd3d-30a4-4fbd-96db-6ce8d375e651",
   "metadata": {
    "slideshow": {
     "slide_type": "fragment"
    }
   },
   "source": [
    "---"
   ]
  },
  {
   "cell_type": "markdown",
   "id": "2a5cca44-23dd-4331-843e-1fb2f70441e7",
   "metadata": {},
   "source": [
    "## ❤️ Section 2: The Framingham Heart Study"
   ]
  },
  {
   "cell_type": "markdown",
   "id": "ac2632c5-733c-4b5a-b075-ef5de130b458",
   "metadata": {
    "slideshow": {
     "slide_type": "fragment"
    }
   },
   "source": [
    "---"
   ]
  },
  {
   "cell_type": "markdown",
   "id": "22c26d9a-11de-4792-9b7d-840ce490d10b",
   "metadata": {},
   "source": [
    "### Background"
   ]
  },
  {
   "cell_type": "markdown",
   "id": "8b26f304-4e72-4ceb-a522-a1b123868f4f",
   "metadata": {},
   "source": [
    "The [Framingham Heart Study](https://www.framinghamheartstudy.org/) is a landmark study that has greatly advanced our understanding of CVD. In 1947, Dr. Joseph W. Mountin, Assistant Surgeon General, Drs. Lewis C. Robinson, and Gilcin Meadors were sent to organize a heart disease study in cooperation with the Massachusetts State Department of Health, Harvard Medical School's Department of Preventive Medicine, and the Health Disease Demonstration Section of the United States Public Health Service. Launched in response to the mid-20th century rise in CVD, the study aimed to identify modifiable risk factors through a preventive approach rather than focusing solely on treatment. As public health advancements reduced infectious diseases, CVD emerged as the leading cause of death, yet little was known about its causes or prevention. Recognizing this gap, researchers set out to uncover the determinants of CVD by studying the interplay between host and environmental factors. The Framingham Study became instrumental in shaping modern epidemiology, influencing preventive medicine, and guiding public health policies.  \n",
    "\n"
   ]
  },
  {
   "cell_type": "markdown",
   "id": "0791a054-8759-4389-a4ea-95355d36a457",
   "metadata": {
    "slideshow": {
     "slide_type": "fragment"
    }
   },
   "source": [
    "---"
   ]
  },
  {
   "cell_type": "markdown",
   "id": "0c5379ee-9cad-4e31-bddd-e8d1c77e5912",
   "metadata": {},
   "source": [
    "### Study Design"
   ]
  },
  {
   "cell_type": "markdown",
   "id": "f2da6f6b-a236-4b68-b61c-438e8e8cec32",
   "metadata": {},
   "source": [
    "The study began in 1948 and 5,209 subjects were initially enrolled in the study. Participants have been examined biennially since the inception of the study and all subjects are continuously followed through regular surveillance for cardiovascular outcomes. Clinic examination data has included cardiovascular disease risk factors and markers of disease such as blood pressure, blood chemistry, lung function, smoking history, health behaviors, ECG tracings, echocardiography, and medication use. Through regular surveillance of area hospitals, participant contact, and death certificates, the Framingham Heart Study reviews and adjudicates events for the occurrence of Angina Pectoris, Myocardial Infarction, Heart Failure, and Cerebrovascular disease."
   ]
  },
  {
   "cell_type": "markdown",
   "id": "628b0bb7-df45-4d17-b132-c4ede954afa7",
   "metadata": {
    "slideshow": {
     "slide_type": "fragment"
    }
   },
   "source": [
    "---"
   ]
  },
  {
   "cell_type": "markdown",
   "id": "bfed090a-e90a-4314-84f1-ad9de92b208e",
   "metadata": {
    "tags": []
   },
   "source": [
    "### Task 2.1 📍"
   ]
  },
  {
   "cell_type": "markdown",
   "id": "8111c13a-8d6b-4ae9-87f6-4e6a90ef5430",
   "metadata": {
    "deletable": false,
    "editable": false
   },
   "source": [
    "Based on the above description, which of the following best describes the study design of the Framingham Heart Study?\n",
    "\n",
    "1. An observational study\n",
    "2. A non-randomized, non-controlled experiment\n",
    "3. A randomized experiment\n",
    "4. A controlled experiment\n",
    "5. A randomized, controlled experiment\n",
    "\n",
    "Assign `framingham_design` to the integer that reflects your choice.\n",
    "\n",
    "_Points:_ 2"
   ]
  },
  {
   "cell_type": "code",
   "execution_count": null,
   "id": "880574fc-f739-4e02-8b7d-cfb0672c08e7",
   "metadata": {
    "tags": [
     "otter_answer_cell"
    ]
   },
   "outputs": [],
   "source": [
    "framingham_design = ...\n",
    "framingham_design"
   ]
  },
  {
   "cell_type": "code",
   "execution_count": null,
   "id": "6a624944",
   "metadata": {
    "deletable": false,
    "editable": false
   },
   "outputs": [],
   "source": [
    "grader.check(\"task_2_1\")"
   ]
  },
  {
   "cell_type": "markdown",
   "id": "28cd413e-b6b4-4da8-b053-77965bb099c1",
   "metadata": {},
   "source": [
    "---"
   ]
  },
  {
   "cell_type": "markdown",
   "id": "a7b01697-23ac-4a61-adfe-f26d1cdf9795",
   "metadata": {},
   "source": [
    "### The Data"
   ]
  },
  {
   "cell_type": "markdown",
   "id": "461110b7-dfca-47e8-983d-637f609bf8d9",
   "metadata": {},
   "source": [
    "The following data table sourced from [`framingham.csv`](https://search.r-project.org/CRAN/refmans/riskCommunicator/html/framingham.html) is a subset of the data collected as part of the Framingham study and includes laboratory, clinic, questionnaire, and adjudicated event data on 4,434 participants. Participant clinic data was collected during three examination periods, approximately 6 years apart, from roughly 1956 to 1968. Each participant was followed for a total of 24 years for the outcome of the following events: Angina Pectoris, Myocardial Infarction, Atherothrombotic Infarction or Cerebral Hemorrhage (Stroke) or death. \n",
    "\n",
    "In this section of the project, we will have you focus on the variables:\n",
    "* `'RANDID'`: Unique identification number for each participant\n",
    "* `'TOTCHOL'`: Serum Total Cholesterol (mg/dL)\n",
    "* `'ANYCVD'`: Angina Pectoris, Myocardial infarction (Hospitalized and silent or unrecognized), Coronary Insufficiency (Unstable Angina), or Fatal Coronary Heart Disease\n",
    "    * `0` Did not occur during followup\n",
    "    * `1` Did occur during followup\n",
    "* `'DEATH'`: Death from any cause\n",
    "    * `0`: Did not occur during followup\n",
    "    * `1`: Did occur during followup\n",
    "\n",
    "You can learn about the variables in the data set at [the Framingham data set website](https://search.r-project.org/CRAN/refmans/riskCommunicator/html/framingham.html).\n",
    "\n",
    "Run the following code cell to load the data into the table `framingham`. Note that we are excluding subjects who already had heart disease (`'PREVCHD'`)."
   ]
  },
  {
   "cell_type": "code",
   "execution_count": null,
   "id": "0fbc2017-d84c-4ae3-b846-08a47ce4a616",
   "metadata": {},
   "outputs": [],
   "source": [
    "framingham = (\n",
    "    Table.read_table('framingham.csv')\n",
    "    .where('PREVCHD', 0)\n",
    "    .select('RANDID', 'TOTCHOL', 'ANYCVD', 'DEATH')\n",
    ")\n",
    "framingham"
   ]
  },
  {
   "cell_type": "markdown",
   "id": "2c1caaac-2fc0-4ae0-8398-168caae4c712",
   "metadata": {},
   "source": [
    "---"
   ]
  },
  {
   "cell_type": "markdown",
   "id": "4d95f441-39eb-4b16-84c3-f5540189c6ef",
   "metadata": {
    "tags": []
   },
   "source": [
    "### Task 2.2 📍"
   ]
  },
  {
   "cell_type": "markdown",
   "id": "d5d7dd1b-c68d-4b0e-b0e3-604534ff167a",
   "metadata": {
    "deletable": false,
    "editable": false
   },
   "source": [
    "Data sets often contain missing values or errors, requiring cleanup before analysis. Update the `framingham` table by removing any rows with missing values. In this dataset, missing values are represented as `nan`.\n",
    "\n",
    "**Hint:** Since the data is presented as numerical data types (`int` and `float`), you cannot just search for the string `nan` or the value `np.nan`. So, we recommend completing this task by combining the fact that `np.nan >= 0` is `False` with the `where ` table method or by utilizing the NumPy function `np.isnan`.\n",
    "\n",
    "_Points:_ 3"
   ]
  },
  {
   "cell_type": "code",
   "execution_count": null,
   "id": "a57f26c2-f3dc-4700-96b9-89e6df0058f3",
   "metadata": {
    "tags": [
     "otter_answer_cell"
    ]
   },
   "outputs": [],
   "source": [
    "framingham = ...\n",
    "framingham"
   ]
  },
  {
   "cell_type": "code",
   "execution_count": null,
   "id": "6446c104",
   "metadata": {
    "deletable": false,
    "editable": false
   },
   "outputs": [],
   "source": [
    "grader.check(\"task_2_2\")"
   ]
  },
  {
   "cell_type": "markdown",
   "id": "0c5bdf85-03d4-402e-b2ca-c5cf3f9cd9df",
   "metadata": {},
   "source": [
    "---"
   ]
  },
  {
   "cell_type": "markdown",
   "id": "741ba04c-a0a7-4451-acc4-7e090efdba02",
   "metadata": {
    "tags": []
   },
   "source": [
    "### Task 2.3 📍"
   ]
  },
  {
   "cell_type": "markdown",
   "id": "0f57a1d1-4403-40da-82ed-054737dc137a",
   "metadata": {
    "deletable": false,
    "editable": false
   },
   "source": [
    "Since cholesterol levels fluctuate over time, you will calculate the average cholesterol level for each individual over the given time period. Create a table called `framingham_by_id`, where each row represents a unique individual from the study, with the following two columns (in order):\n",
    "\n",
    "* `'RANDID'`: Unique identification number for each participant\n",
    "* `'AVE TOTCHOL'`: Average `'TOTCHOL'` over the data collection period for the individual\n",
    "* `'ANYCVD'`: Angina Pectoris, Myocardial infarction (Hospitalized and silent or unrecognized), Coronary Insufficiency (Unstable Angina), or Fatal Coronary Heart Disease\n",
    "    * `0` Did not occur during the data collection period\n",
    "    * `1` Did occur during the data collection period\n",
    "* `'DEATH'`: Death from any cause\n",
    "    * `0`: Did not occur during the data collection period\n",
    "    * `1`: Did occur during the data collection period\n",
    "\n",
    "_Points:_ 3"
   ]
  },
  {
   "cell_type": "code",
   "execution_count": null,
   "id": "234b674f-2b44-4e2a-9a95-35725280536f",
   "metadata": {
    "tags": [
     "otter_answer_cell"
    ]
   },
   "outputs": [],
   "source": [
    "framingham_by_id = ...\n",
    "framingham_by_id"
   ]
  },
  {
   "cell_type": "code",
   "execution_count": null,
   "id": "8de45f5a",
   "metadata": {
    "deletable": false,
    "editable": false
   },
   "outputs": [],
   "source": [
    "grader.check(\"task_2_3\")"
   ]
  },
  {
   "cell_type": "markdown",
   "id": "49606b59-330f-45dd-ae24-de1daea4cfb2",
   "metadata": {},
   "source": [
    "---"
   ]
  },
  {
   "cell_type": "markdown",
   "id": "51d90bb3-6f7f-4ded-9e08-e33bfcb03df3",
   "metadata": {
    "tags": []
   },
   "source": [
    "### Task 2.4 📍🔎"
   ]
  },
  {
   "cell_type": "markdown",
   "id": "4d7cd4d4-e86a-4d9f-a8d5-3268f192fe28",
   "metadata": {
    "deletable": false,
    "editable": false
   },
   "source": [
    "<!-- BEGIN QUESTION -->\n",
    "\n",
    "Create overlaid histograms to compare the distribution of average serum total cholesterol values for individuals who developed CVD (`ANYCVD`: `1`) and those who did not (`ANYCVD`: `0`). Set the `unit` parameter to `'mg/dL'` and use `np.arange(min_ave_TOTCHOL, max_ave_TOTCHOL + 1, 25)` for the bins, where `min_ave_TOTCHOL` and `max_ave_TOTCHOL` are the minimum and maximum average cholesterol values.\n",
    "\n",
    "\n",
    "_Points:_ 3"
   ]
  },
  {
   "cell_type": "code",
   "execution_count": null,
   "id": "fd7bc1d5-2aae-4e0c-9688-d2bb2e552d39",
   "metadata": {
    "tags": [
     "otter_answer_cell"
    ]
   },
   "outputs": [],
   "source": [
    "max_ave_TOTCHOL = ...\n",
    "min_ave_TOTCHOL = ...\n",
    "...\n",
    "\n",
    "# Give a title to the graphic\n",
    "plt.title('Distribution of Average Serum Total Cholesterol')\n",
    "plt.show()"
   ]
  },
  {
   "cell_type": "markdown",
   "id": "c324401e-f654-40a8-99bd-e42677d6c4cf",
   "metadata": {
    "deletable": false,
    "editable": false,
    "slideshow": {
     "slide_type": "fragment"
    }
   },
   "source": [
    "<!-- END QUESTION -->\n",
    "\n",
    "---"
   ]
  },
  {
   "cell_type": "markdown",
   "id": "e43af456-fc03-43be-9643-691edde91a54",
   "metadata": {},
   "source": [
    "### Framingham Heart Study Research Goal"
   ]
  },
  {
   "cell_type": "markdown",
   "id": "4347bb6f-ebf1-487a-a530-d8c8d01583d5",
   "metadata": {},
   "source": [
    "As a student researcher, you are now going to use these data to examine one of the main findings of the Framingham study. The question to be addressed is: Is there an association between average serum cholesterol level (i.e., how much cholesterol is in a person's blood) and whether or not a person develops heart disease during the studied period? For the rest of this section, you will use the following hypotheses:\n",
    "\n",
    "**Null Hypothesis:** In the population, the distribution of average cholesterol levels among those who get heart disease is the same as the distribution of average cholesterol levels among those who do not.\n",
    "\n",
    "**Alternative Hypothesis:** The average cholesterol levels of people in the population who get heart disease are higher, on average, than the average cholesterol level of people who do not."
   ]
  },
  {
   "cell_type": "markdown",
   "id": "d320717b-0221-4aa3-b9d4-fbedd9ec9a45",
   "metadata": {},
   "source": [
    "---"
   ]
  },
  {
   "cell_type": "markdown",
   "id": "21ba157f-3592-43f3-9d75-80c3399aa031",
   "metadata": {},
   "source": [
    "### Developing a Test Statistic"
   ]
  },
  {
   "cell_type": "markdown",
   "id": "09c29bb4-61d8-425b-9622-f694022c26c5",
   "metadata": {},
   "source": [
    "With the hypotheses and research goal established, you need to define a test statistic where larger values of the test statistic will point towards the alternative. In this case, the alternative states that the average cholesterol levels of people who get heart disease are higher on average than those who do not. As such, it is not enough to measure the magnitude of the difference between average cholesterol levels, but also maintain the directionality implied in the alternative. So, use the test statistic defined as **the average serum total cholesterol of those who develop CVD minus the average serum total cholesterol of those who didn't develop CVD.**"
   ]
  },
  {
   "cell_type": "markdown",
   "id": "3caeedab-831c-4f07-8af7-f7c99f78fcc6",
   "metadata": {},
   "source": [
    "---"
   ]
  },
  {
   "cell_type": "markdown",
   "id": "2e97641c-9808-48a3-9722-fcd8a97237fd",
   "metadata": {
    "tags": []
   },
   "source": [
    "### Task 2.5 📍"
   ]
  },
  {
   "cell_type": "markdown",
   "id": "3ef72661-fa0d-4385-8228-07a96f48b2e7",
   "metadata": {
    "deletable": false,
    "editable": false
   },
   "source": [
    "Define a function called `compute_framingham_test_statistic` that computes the test statistic defined above. It should take a table like `framingham_by_id` with four columns, `'RANDID'`, `'AVE TOTCHOL'`, `'ANYCVD'`, and `'DEATH'`, and it should return the value of the test statistic defined above.\n",
    "\n",
    "Lastly, call the function you defined to compute the observed test statistic based on the `framingham_by_id` table and assign it to `framingham_observed_statistic`.\n",
    "\n",
    "_Points:_ 4"
   ]
  },
  {
   "cell_type": "code",
   "execution_count": null,
   "id": "46ba63d0-91e2-4859-a03d-38fc3aedebcc",
   "metadata": {
    "tags": [
     "otter_answer_cell"
    ]
   },
   "outputs": [],
   "source": [
    "# Define the function\n",
    "...\n",
    "\n",
    "# Call the function\n",
    "framingham_observed_statistic = ...\n",
    "framingham_observed_statistic"
   ]
  },
  {
   "cell_type": "code",
   "execution_count": null,
   "id": "f81f4942",
   "metadata": {
    "deletable": false,
    "editable": false
   },
   "outputs": [],
   "source": [
    "grader.check(\"task_2_5\")"
   ]
  },
  {
   "cell_type": "markdown",
   "id": "199d5bd9-f364-4264-9ac9-2cac2be49c60",
   "metadata": {},
   "source": [
    "---"
   ]
  },
  {
   "cell_type": "markdown",
   "id": "435cc3ef-72f3-4e7e-a6ef-ad50f7d296f3",
   "metadata": {
    "tags": []
   },
   "source": [
    "### Task 2.6 📍"
   ]
  },
  {
   "cell_type": "markdown",
   "id": "129a07ee-709a-463e-9234-089d28298990",
   "metadata": {
    "deletable": false,
    "editable": false
   },
   "source": [
    "Define a function, `simulate_framingham_null`, to generate a test statistic under the null hypothesis. This function should \n",
    "* Take a table like `framingham_by_id` with four columns, `'RANDID'`, `'AVE TOTCHOL'`, `'ANYCVD'`, and `'DEATH'` as input.\n",
    "* Use that table to create one simulated data set assuming the null hypothesis is true.\n",
    "* Return the corresponding test statistic calculated on the simulated data set.\n",
    "Lastly, call the function with `framingham_by_id` to generate one statistic and assign it to `one_simulated_test_stat`.\n",
    "\n",
    "_Points:_ 3"
   ]
  },
  {
   "cell_type": "code",
   "execution_count": null,
   "id": "c73f7511-11fd-4457-8420-5bbec3e6743b",
   "metadata": {
    "tags": [
     "otter_answer_cell"
    ]
   },
   "outputs": [],
   "source": [
    "# Define the function\n",
    "...\n",
    "\n",
    "# Call the function\n"
   ]
  },
  {
   "cell_type": "code",
   "execution_count": null,
   "id": "82c2cb3f",
   "metadata": {
    "deletable": false,
    "editable": false
   },
   "outputs": [],
   "source": [
    "grader.check(\"task_2_6\")"
   ]
  },
  {
   "cell_type": "markdown",
   "id": "f3ac8410-20ef-4a47-9791-c55a8fff9610",
   "metadata": {},
   "source": [
    "---"
   ]
  },
  {
   "cell_type": "markdown",
   "id": "5d4f8fac-2614-4a17-9989-f26ff1c43cd8",
   "metadata": {
    "tags": []
   },
   "source": [
    "### Task 2.7 📍"
   ]
  },
  {
   "cell_type": "markdown",
   "id": "b29cf8d2-c625-44c1-9b36-bec27e37496f",
   "metadata": {
    "deletable": false,
    "editable": false
   },
   "source": [
    "Define a function called `simulate_n`. The function should:\n",
    "* Take an integer `n` and a table `tbl` like `framingham_id` as input.\n",
    "* Run `simulate_framingham_null` `n` times to to generate `n` test statistics using data from `tbl` (not `framingham_by_id` directly).\n",
    "* Return an array of the `n` generated test statistics.\n",
    "\n",
    "Lastly, call `simulate_n(1_000, framingham_by_id)` and and assign`framingham_simulated_stats` to the array resulting from the function call.\n",
    "\n",
    "**Note**: It should take around 1 minute to run this simulation.\n",
    "\n",
    "_Points:_ 3"
   ]
  },
  {
   "cell_type": "code",
   "execution_count": null,
   "id": "55d8a323-4161-4b59-867e-1069c78ecf7a",
   "metadata": {
    "tags": [
     "otter_answer_cell"
    ]
   },
   "outputs": [],
   "source": [
    "# Define the function\n",
    "def simulate_n(n, tbl):\n",
    "    ...\n",
    "\n",
    "# Call the function\n",
    "framingham_simulated_stats = ..."
   ]
  },
  {
   "cell_type": "code",
   "execution_count": null,
   "id": "622a80fd",
   "metadata": {
    "deletable": false,
    "editable": false
   },
   "outputs": [],
   "source": [
    "grader.check(\"task_2_7\")"
   ]
  },
  {
   "cell_type": "markdown",
   "id": "175adf03-5584-497e-8eee-99f31577a674",
   "metadata": {},
   "source": [
    "---"
   ]
  },
  {
   "cell_type": "markdown",
   "id": "60981a3e-c2be-4e0e-8fb1-a58e51752f24",
   "metadata": {},
   "source": [
    "### Distribution of Test Statistics"
   ]
  },
  {
   "cell_type": "markdown",
   "id": "dda166c2-2dc0-42d2-bd21-05caf5c69ecf",
   "metadata": {},
   "source": [
    "Run the following code to generate a histogram showing the distribution of the simulated test statistics in `framingham_simulated_stats` along with the observed test statistic calculated earlier."
   ]
  },
  {
   "cell_type": "code",
   "execution_count": null,
   "id": "0ae86233-7802-4e92-b0f4-e306aa43ff5b",
   "metadata": {},
   "outputs": [],
   "source": [
    "Table().with_column('Simulated Test Statistic', framingham_simulated_stats).hist(unit='mg/dL')\n",
    "plt.text(framingham_observed_statistic, 0.02, 'Observed Test Statistic', \n",
    "         color='red', fontsize=10, ha='center')\n",
    "plt.scatter(framingham_observed_statistic, 0, color='red', marker='^', s=60, zorder=3)\n",
    "plt.title('Distribution of Test Statistics')\n",
    "plt.show()"
   ]
  },
  {
   "cell_type": "markdown",
   "id": "a17ab5f8-c8f9-48ab-88ea-9411795167b7",
   "metadata": {},
   "source": [
    "---"
   ]
  },
  {
   "cell_type": "markdown",
   "id": "8d24cd60-e823-4285-a2b6-ed5955acc032",
   "metadata": {
    "tags": []
   },
   "source": [
    "### Task 2.8 📍"
   ]
  },
  {
   "cell_type": "markdown",
   "id": "62d4b004-73ee-4fb5-8742-3bec2fae847e",
   "metadata": {
    "deletable": false,
    "editable": false
   },
   "source": [
    "Compute the p-value for this hypothesis test, and assign it to the name `framingham_p_value`.\n",
    "\n",
    "**Hint**: One of the key findings of the Framingham study was a strong association between cholesterol levels and heart disease. If your p-value doesn't match up with this finding, you may want to take another look at your test statistic and/or your simulation.\n",
    "\n",
    "_Points:_ 2"
   ]
  },
  {
   "cell_type": "code",
   "execution_count": null,
   "id": "7f5c66b8-5552-4aa1-b31b-c53e34441194",
   "metadata": {
    "tags": [
     "otter_answer_cell"
    ]
   },
   "outputs": [],
   "source": [
    "framingham_p_value = ...\n",
    "framingham_p_value"
   ]
  },
  {
   "cell_type": "code",
   "execution_count": null,
   "id": "36c4425a",
   "metadata": {
    "deletable": false,
    "editable": false
   },
   "outputs": [],
   "source": [
    "grader.check(\"task_2_8\")"
   ]
  },
  {
   "cell_type": "markdown",
   "id": "1a0d6dc5-bda0-4c35-ae7c-5e4bd5ebad8b",
   "metadata": {},
   "source": [
    "---"
   ]
  },
  {
   "cell_type": "markdown",
   "id": "bddb7074-20ab-4ef2-adfc-ca3a5979eb5f",
   "metadata": {
    "tags": []
   },
   "source": [
    "### Task 2.9 📍"
   ]
  },
  {
   "cell_type": "markdown",
   "id": "7f28ad42-5629-48b9-9c56-4f35502e055c",
   "metadata": {
    "deletable": false,
    "editable": false
   },
   "source": [
    "Is the following statement true or false? Based on the results from this hypothesis test, we can say that high cholesterol levels cause CVD. Assign `True` or `False` to `CVD_causation` to answer this question.\n",
    "\n",
    "_Points:_ 2"
   ]
  },
  {
   "cell_type": "code",
   "execution_count": null,
   "id": "3825bf92-d506-4557-be1e-b3004dc851e7",
   "metadata": {
    "tags": [
     "otter_answer_cell"
    ]
   },
   "outputs": [],
   "source": [
    "CVD_causation = ...\n",
    "CVD_causation"
   ]
  },
  {
   "cell_type": "code",
   "execution_count": null,
   "id": "c4756433",
   "metadata": {
    "deletable": false,
    "editable": false
   },
   "outputs": [],
   "source": [
    "grader.check(\"task_2_9\")"
   ]
  },
  {
   "cell_type": "markdown",
   "id": "019a9df0-f7c0-4301-aa04-dc649e2699ef",
   "metadata": {},
   "source": [
    "---"
   ]
  },
  {
   "cell_type": "markdown",
   "id": "8f2a02dc-36f1-4b46-be12-b37da6d7c9e3",
   "metadata": {},
   "source": [
    "## 🥓 Section 3: National Diet-Heart Study"
   ]
  },
  {
   "cell_type": "markdown",
   "id": "d1f5b613-6bf7-4860-9322-93e4b62a452c",
   "metadata": {
    "slideshow": {
     "slide_type": "fragment"
    }
   },
   "source": [
    "---"
   ]
  },
  {
   "cell_type": "markdown",
   "id": "c88f5d7e-6ecd-4a7b-9e7f-ec9333b38d34",
   "metadata": {},
   "source": [
    "### Background"
   ]
  },
  {
   "cell_type": "markdown",
   "id": "1e3fa02a-8ac1-4767-8209-38849a0075c8",
   "metadata": {},
   "source": [
    "To establish a causal link between saturated fat intake, serum cholesterol, and heart disease, a group of doctors in the U.S. launched the [National Diet-Heart Study](https://jamanetwork.com/journals/jamainternalmedicine/article-abstract/575481). The study was conducted across six centers: Baltimore, Boston, Chicago, Minneapolis-St. Paul, Oakland, and Faribault, MN. In the first five locations, volunteers from the local population—along with their families—were asked to modify their diets by either increasing or decreasing their saturated fat intake. The sixth center was located at Faribault State Hospital in Faribault, MN, where participants were institutionalized individuals with disabilities or mental illness. This center was led by Dr. Ivan Frantz and was part of the Minnesota Coronary Experiment. A strong advocate for reducing saturated fat to lower the risk of heart disease, Dr. Frantz was so committed to this idea that he maintained a strict low-saturated-fat diet for his own household.\n",
    "\n",
    "You might already have a sense of what the doctors expected to find, but the trial's results turned out to be more complex than anticipated."
   ]
  },
  {
   "cell_type": "markdown",
   "id": "669a50d4-f16d-47fa-9399-029b3acb9dc0",
   "metadata": {
    "slideshow": {
     "slide_type": "fragment"
    }
   },
   "source": [
    "---"
   ]
  },
  {
   "cell_type": "markdown",
   "id": "febba1f3-758b-4a7b-b530-f07dae139a3a",
   "metadata": {},
   "source": [
    "### Study Design"
   ]
  },
  {
   "cell_type": "markdown",
   "id": "e8646727-387f-484e-96dc-1a96de8494db",
   "metadata": {},
   "source": [
    "In the Faribault institution, the subjects were randomly divided into two equal groups where half of the subjects were fed meals cooked with saturated fats (which was normal at the time) and half were fed meals cooked with polyunsaturated fats."
   ]
  },
  {
   "cell_type": "markdown",
   "id": "cd0094d7-94a1-48f4-8da5-678ba6493ea6",
   "metadata": {
    "slideshow": {
     "slide_type": "fragment"
    }
   },
   "source": [
    "---"
   ]
  },
  {
   "cell_type": "markdown",
   "id": "29856bc9-8492-4cf3-9962-78524334768a",
   "metadata": {
    "tags": []
   },
   "source": [
    "### Task 3.1 📍"
   ]
  },
  {
   "cell_type": "markdown",
   "id": "2c82636e-05cc-4858-bff0-a4093e9857bb",
   "metadata": {
    "deletable": false,
    "editable": false
   },
   "source": [
    "Based on the above description, which of the following best describes the study design of the National Diet-Heart Study?\n",
    "\n",
    "1. An observational study\n",
    "2. A non-randomized, non-controlled experiment\n",
    "3. A randomized experiment\n",
    "4. A controlled experiment\n",
    "5. A randomized, controlled experiment\n",
    "\n",
    "Assign `nation_diet_heart_design` to the integer that reflects your choice.\n",
    "\n",
    "_Points:_ 2"
   ]
  },
  {
   "cell_type": "code",
   "execution_count": null,
   "id": "ee86368c-d72a-489b-816c-66e260a16f3d",
   "metadata": {
    "tags": [
     "otter_answer_cell"
    ]
   },
   "outputs": [],
   "source": [
    "nation_diet_heart_design = ...\n",
    "nation_diet_heart_design"
   ]
  },
  {
   "cell_type": "code",
   "execution_count": null,
   "id": "2858d8f4",
   "metadata": {
    "deletable": false,
    "editable": false
   },
   "outputs": [],
   "source": [
    "grader.check(\"task_3_1\")"
   ]
  },
  {
   "cell_type": "markdown",
   "id": "45da81ef-bc2a-4fc1-8fdf-87f04d32bb54",
   "metadata": {},
   "source": [
    "---"
   ]
  },
  {
   "cell_type": "markdown",
   "id": "6468d1bc-518c-434a-b7c4-17dd33141657",
   "metadata": {},
   "source": [
    "### Informed Consent"
   ]
  },
  {
   "cell_type": "markdown",
   "id": "f2a0235b-f543-45f8-86ce-9f3e3f54ecb4",
   "metadata": {},
   "source": [
    "Although standards for informed consent in participation weren't as strict then as they are today, the study was described as follows:\n",
    "\n",
    "> No consent forms were required because the study diets were considered to be acceptable as house diets and the testing was considered to contribute to better patient care.  Prior to beginning the diet phase, the project was explained and sample foods were served. Residents were given the opportunity to decline participation.\n",
    "\n",
    "Despite the level of detail and effort in the study, the results of the study were never extensively examined until the late 21st century. Over 40 years after the data were collected, Dr. Christopher Ramsden heard about the experiment, and asked Dr. Frantz's son Robert to uncover the files in the Frantz family home's dusty basement. You can learn more about the story of how the data was recovered on the [Revisionist History podcast](http://revisionisthistory.com/episodes/20-the-basement-tapes) or in [Scientific American magazine](https://www.scientificamerican.com/article/records-found-in-dusty-basement-undermine-decades-of-dietary-advice/)."
   ]
  },
  {
   "cell_type": "markdown",
   "id": "66bc1181-e0e9-473a-b00f-b1288311c66d",
   "metadata": {
    "slideshow": {
     "slide_type": "fragment"
    }
   },
   "source": [
    "---"
   ]
  },
  {
   "cell_type": "markdown",
   "id": "325c473e-dcf4-4170-8261-fc8065d273b1",
   "metadata": {},
   "source": [
    "### Accountability"
   ]
  },
  {
   "cell_type": "markdown",
   "id": "3e331d3d-0c24-4e47-a4a2-de6340bc98e9",
   "metadata": {},
   "source": [
    "In recent years, poor treatment of patients at Faribault State Hospital (and other similar institutions in Minnesota) has come to light: the state has recently [changed patients' gravestones from numbers to their actual names](https://www.tcdailyplanet.net/minnesota-saying-sorry-treatment-persons-disabilities/), and [apologized for inhumane treatment of patients](https://www.tcdailyplanet.net/minnesota-saying-sorry-treatment-persons-disabilities/)."
   ]
  },
  {
   "cell_type": "markdown",
   "id": "7d0c022d-5690-4ab7-900c-6e809ead75c4",
   "metadata": {
    "slideshow": {
     "slide_type": "fragment"
    }
   },
   "source": [
    "---"
   ]
  },
  {
   "cell_type": "markdown",
   "id": "24e7e53f-d4df-4a66-82f8-ccfd9e0c65d4",
   "metadata": {},
   "source": [
    "### The Data"
   ]
  },
  {
   "cell_type": "markdown",
   "id": "409020a2-b1ef-4d11-af1b-233d9fb1b17b",
   "metadata": {},
   "source": [
    "Unfortunately, the data for each individual in the 1968 study is not available; only summary statistics are available. Run the following code cell to load the summarized data table."
   ]
  },
  {
   "cell_type": "code",
   "execution_count": null,
   "id": "fede2ac1-0844-42c6-a034-09cba39fd847",
   "metadata": {},
   "outputs": [],
   "source": [
    "national_diet_heart = Table.read_table('national_diet_heart.csv')\n",
    "national_diet_heart"
   ]
  },
  {
   "cell_type": "markdown",
   "id": "2486c7f1-cdf4-4e30-8722-76e456f10c95",
   "metadata": {},
   "source": [
    "`national_diet_heart` is a table with four columns: `'Age'`, `'Diet'`, `'Participated'`, and `'Died'`. Each row contains a specific patient and has their age group and diet, either a `True` or `False` in the \"Died\" column, depending on if they are alive or dead at the time of the research reporting, and a `True` in the \"Participated\" column (since everyone participated in the experiment)."
   ]
  },
  {
   "cell_type": "markdown",
   "id": "8c14a4f3-cfe3-4b72-a5ea-859aa947d2bb",
   "metadata": {},
   "source": [
    "---"
   ]
  },
  {
   "cell_type": "markdown",
   "id": "e4784129-cfea-401d-a2a2-88b5c27b2429",
   "metadata": {},
   "source": [
    "### National Diet-Heart Study Research Goal"
   ]
  },
  {
   "cell_type": "markdown",
   "id": "781ddf3f-97f4-4bd8-a778-b725a33aad94",
   "metadata": {},
   "source": [
    "As a student researcher, your goal now is to use the data in the `national_heart_diet` table along with methods from our course to **determine whether or not CVD death rates were reduced for people on a low saturated fat diet.** For this section, base your work on the following hypotheses:\n",
    "\n",
    "**Null Hypothesis**: The death rates associated with a polyunsaturated fat diet and a saturated fat diet are the same. Any difference in death rates is due to chance.\n",
    "\n",
    "**Alternative Hypothesis**: The death rates associated with a polyunsaturated fat diet and a saturated fat diet are different."
   ]
  },
  {
   "cell_type": "markdown",
   "id": "69b5919b-4aec-446a-a374-f5a1d71954b6",
   "metadata": {},
   "source": [
    "---"
   ]
  },
  {
   "cell_type": "markdown",
   "id": "15089900-0347-41d1-9860-cd151d9e1058",
   "metadata": {},
   "source": [
    "### Developing a Test Statistic"
   ]
  },
  {
   "cell_type": "markdown",
   "id": "b2be5aa9-21fe-4414-ad5b-4273297a8c53",
   "metadata": {
    "tags": []
   },
   "source": [
    "### Task 3.2 📍"
   ]
  },
  {
   "cell_type": "markdown",
   "id": "01fa6477-bbab-43b0-bc46-be69f9c13450",
   "metadata": {
    "deletable": false,
    "editable": false
   },
   "source": [
    "Create a table named `summed_data`, with three columns and two rows. The three columns should be `'Diet'`, `'Death Total'`, and `'Participation Total'`. There should be one row for the polyunsaturated diet group and one row for the saturated diet group, and each row should encode the total number of people who participated in that group and the total number of people who died in that group. \n",
    "\n",
    "_Points:_ 3"
   ]
  },
  {
   "cell_type": "code",
   "execution_count": null,
   "id": "de622808-3672-4fd8-b245-65546d5aff06",
   "metadata": {
    "tags": [
     "otter_answer_cell"
    ]
   },
   "outputs": [],
   "source": [
    "summed_data = ...\n",
    "summed_data"
   ]
  },
  {
   "cell_type": "code",
   "execution_count": null,
   "id": "06c8466e",
   "metadata": {
    "deletable": false,
    "editable": false
   },
   "outputs": [],
   "source": [
    "grader.check(\"task_3_2\")"
   ]
  },
  {
   "cell_type": "markdown",
   "id": "837b7ff9-7ab0-47f3-add5-748c32368b7f",
   "metadata": {},
   "source": [
    "---"
   ]
  },
  {
   "cell_type": "markdown",
   "id": "738790ce-7da8-40bb-95f2-af392d36273c",
   "metadata": {},
   "source": [
    "#### Hazard Rate"
   ]
  },
  {
   "cell_type": "markdown",
   "id": "4b038fec-502c-449c-bc57-8512173636ea",
   "metadata": {},
   "source": [
    "To combat the problem above, you decide to use the absolute difference in hazard rates between the two groups as our test statistic. **The *hazard rate* is defined as the proportion of people who died in a specific group out of the total number who participated in the study from that group.**"
   ]
  },
  {
   "cell_type": "markdown",
   "id": "64f81a0e-2ed5-4dd9-88a7-56a49d106af7",
   "metadata": {
    "slideshow": {
     "slide_type": "fragment"
    }
   },
   "source": [
    "---"
   ]
  },
  {
   "cell_type": "markdown",
   "id": "78a0d43c-ad1b-4079-8a65-a8ae95ccc021",
   "metadata": {
    "tags": []
   },
   "source": [
    "### Task 3.3 📍"
   ]
  },
  {
   "cell_type": "markdown",
   "id": "c6769133-d8ea-4537-96d1-924773970d29",
   "metadata": {
    "deletable": false,
    "editable": false
   },
   "source": [
    "Define a new table `summed_hazard_data` that contains the columns of `summed_data` along with an additional column, `Hazard Rate`, that contains the hazard rates for each condition.\n",
    "\n",
    "_Points:_ 3"
   ]
  },
  {
   "cell_type": "code",
   "execution_count": null,
   "id": "3102d2d7-0886-4dee-80e5-170e7874d48c",
   "metadata": {
    "tags": [
     "otter_answer_cell"
    ]
   },
   "outputs": [],
   "source": [
    "summed_hazard_data = ...\n",
    "summed_hazard_data"
   ]
  },
  {
   "cell_type": "code",
   "execution_count": null,
   "id": "e2211855",
   "metadata": {
    "deletable": false,
    "editable": false
   },
   "outputs": [],
   "source": [
    "grader.check(\"task_3_3\")"
   ]
  },
  {
   "cell_type": "markdown",
   "id": "6fa54a67-60ff-440b-957d-1506faf04e7d",
   "metadata": {},
   "source": [
    "---"
   ]
  },
  {
   "cell_type": "markdown",
   "id": "d3d789fc-a784-44ac-be9d-3f91d378eb2b",
   "metadata": {
    "tags": []
   },
   "source": [
    "### Task 3.4 📍"
   ]
  },
  {
   "cell_type": "markdown",
   "id": "bf787b4c-61f1-4360-bf98-4aa2e9f74f5b",
   "metadata": {
    "deletable": false,
    "editable": false
   },
   "source": [
    "Define the function `compute_death_rate_test_statistic` which takes in a table like `national_diet_heart` (with the same column labels) and returns the absolute difference between the hazard rates of the two diet groups, and call the function to calculate the observed test statistic and assign it to `observed_death_rate_statistic`.\n",
    "\n",
    "_Points:_ 3"
   ]
  },
  {
   "cell_type": "code",
   "execution_count": null,
   "id": "4bf1694d-22e2-4d49-a720-a703089d1333",
   "metadata": {
    "tags": [
     "otter_answer_cell"
    ]
   },
   "outputs": [],
   "source": [
    "# Define the function\n",
    "...\n",
    "\n",
    "# Calculate the observed test statistic\n",
    "observed_death_rate_statistic = ...\n",
    "observed_death_rate_statistic"
   ]
  },
  {
   "cell_type": "code",
   "execution_count": null,
   "id": "c6942dd1",
   "metadata": {
    "deletable": false,
    "editable": false
   },
   "outputs": [],
   "source": [
    "grader.check(\"task_3_4\")"
   ]
  },
  {
   "cell_type": "markdown",
   "id": "9becc20d-33b5-4132-9717-11e3589ced13",
   "metadata": {},
   "source": [
    "---"
   ]
  },
  {
   "cell_type": "markdown",
   "id": "8c000139-f790-4654-8b65-f5ba62ed3ce5",
   "metadata": {
    "tags": []
   },
   "source": [
    "### Task 3.5 📍"
   ]
  },
  {
   "cell_type": "markdown",
   "id": "aa36cea1-f995-433f-b222-2c9ce249b82a",
   "metadata": {
    "deletable": false,
    "editable": false
   },
   "source": [
    "We are now ready to perform a hypothesis test to determine whether the observed difference in death rates between the two diet groups is statistically significant.  \n",
    "\n",
    "Define a function, `complete_test`, which takes in `tbl`, a table structured like `national_diet_heart`. The function should:  \n",
    "\n",
    "1. **Only use the data in `tbl`** and should **not reference `national_diet_heart` directly**. \n",
    "2. Simulate 100 samples under the **null hypothesis**, where death rates are **randomly shuffled** between the two groups.  \n",
    "3. Compute the **difference in death rates** for each simulated sample.  \n",
    "4. Use these simulated differences to calculate a **p-value** based on our observed data.\n",
    "5. Return the p-value. \n",
    "\n",
    "Lastly, assign `national_diet_heart_p_value` to the p-value generated by `complete_test` when applied to the `national_diet_heart` table.\n",
    "\n",
    "**Hint**: This problem involves multiple steps. To make implementation easier:  \n",
    "* Outline the necessary steps before coding.  \n",
    "* Work incrementally, testing small parts of your function as you go.\n",
    "* Utilize work you've already done such as using functions you've already created.\n",
    "* Use comments to keep track of each step.  \n",
    "\n",
    "**Note:** Your function may take a few minutes to run.\n",
    "\n",
    "_Points:_ 4"
   ]
  },
  {
   "cell_type": "code",
   "execution_count": null,
   "id": "5e259f29-da65-4777-bcb4-46657fc06fd2",
   "metadata": {
    "tags": [
     "otter_answer_cell"
    ]
   },
   "outputs": [],
   "source": [
    "# Define the function\n",
    "def complete_test(tbl):\n",
    "    ...\n",
    "\n",
    "# Call the function\n",
    "national_diet_heart_p_value = ...\n",
    "national_diet_heart_p_value"
   ]
  },
  {
   "cell_type": "code",
   "execution_count": null,
   "id": "5d5b3d14",
   "metadata": {
    "deletable": false,
    "editable": false
   },
   "outputs": [],
   "source": [
    "grader.check(\"task_3_5\")"
   ]
  },
  {
   "cell_type": "markdown",
   "id": "7cc0b41f-0878-40f2-b362-203049517580",
   "metadata": {},
   "source": [
    "---"
   ]
  },
  {
   "cell_type": "markdown",
   "id": "a739fffc-50cd-49ce-8221-09d8e5d9b0b1",
   "metadata": {
    "tags": []
   },
   "source": [
    "### Task 3.6 📍"
   ]
  },
  {
   "cell_type": "markdown",
   "id": "c1fe1355-d6bc-4621-a0a7-6b102011b6a5",
   "metadata": {
    "deletable": false,
    "editable": false
   },
   "source": [
    "Using the `national_diet_heart_p_value` above, can you conclude that the change in diet causes a difference in death rate? Assume a normal p-value cutoff of 0.05. Set `reject_national_diet_heart_null` to `True` if we reject the null hypothesis and `False` if we fail to reject the null hypothesis.\n",
    "\n",
    "_Points:_ 2"
   ]
  },
  {
   "cell_type": "code",
   "execution_count": null,
   "id": "b548e2a8-4ae2-453c-8bf3-bdac60f1e9d6",
   "metadata": {
    "tags": [
     "otter_answer_cell"
    ]
   },
   "outputs": [],
   "source": [
    "reject_national_diet_heart_null = ...\n",
    "reject_national_diet_heart_null"
   ]
  },
  {
   "cell_type": "code",
   "execution_count": null,
   "id": "4e52e0a9",
   "metadata": {
    "deletable": false,
    "editable": false
   },
   "outputs": [],
   "source": [
    "grader.check(\"task_3_6\")"
   ]
  },
  {
   "cell_type": "markdown",
   "id": "6029cab8-5313-4893-b38c-2c776c2b3178",
   "metadata": {},
   "source": [
    "---"
   ]
  },
  {
   "cell_type": "markdown",
   "id": "a819450d-2975-4410-96f2-405e43724b9c",
   "metadata": {},
   "source": [
    "## 🎉 Reflection"
   ]
  },
  {
   "cell_type": "markdown",
   "id": "f3eb7d90-6dd6-435b-a3f0-66dcf370047a",
   "metadata": {},
   "source": [
    "Great work making through this project! You've just utilized a lot of the skills and concepts from the course to study the leading causes of death in the U.S. for over one century and replicated two major studies surrounding cardiovascular disease. Step back and think about how far you've come since day one of this course!"
   ]
  },
  {
   "cell_type": "markdown",
   "id": "c4817099-db65-47c6-a5a1-3ec50b8fc2ec",
   "metadata": {},
   "source": [
    "---"
   ]
  },
  {
   "cell_type": "markdown",
   "id": "39070a92-b406-4f64-a304-ddeb2405321e",
   "metadata": {},
   "source": [
    "## 🏁 Submit Your Assignment to Canvas"
   ]
  },
  {
   "cell_type": "markdown",
   "id": "3fd22c07-e278-4a5c-a579-5abd862e531d",
   "metadata": {},
   "source": [
    "Follow these steps to submit your project assignment:\n",
    "\n",
    "1. **Review the Rubric:** View the rubric on the associated Canvas Assignment page to understand the scoring criteria.\n",
    "2. **Run the Auto-Grader:** Ensure you have executed the code cell containing the command `grader.check_all()` to run all tests for auto-graded tasks marked with 📍. This command will execute all auto-grader tests sequentially.\n",
    "3. **Complete Manually Graded Tasks:** Verify that you have responded to all the manually graded tasks marked with 📍🔎.\n",
    "4. **Save Your Work:** In the notebook's Toolbar, go to `File -> Save Notebook` to save your work and create a checkpoint.\n",
    "5. **Download the Notebook:** In the notebook's Toolbar, go to `File -> Download IPYNB` to download the notebook (`.ipynb`) file.\n",
    "6. **Upload to Canvas:** On the Canvas Assignment page, click \"Start Assignment\" or \"New Attempt\" to upload the downloaded `.ipynb` file."
   ]
  },
  {
   "cell_type": "markdown",
   "id": "2ce566ea-7b3d-480f-b133-eeea13273334",
   "metadata": {},
   "source": [
    "---"
   ]
  },
  {
   "cell_type": "markdown",
   "id": "30082ea6-6ac2-4e1d-aaf1-8729579b7570",
   "metadata": {
    "editable": true,
    "slideshow": {
     "slide_type": "notes"
    },
    "tags": []
   },
   "source": [
    "## Attribution"
   ]
  },
  {
   "cell_type": "markdown",
   "id": "91fe88e7-f890-4c61-b555-cd8b155964f1",
   "metadata": {},
   "source": [
    "This content is licensed under the <a href=\"https://creativecommons.org/licenses/by-nc-sa/4.0/\">Creative Commons Attribution-NonCommercial-ShareAlike 4.0 International License (CC BY-NC-SA 4.0)</a> and derived from the <a href=\"https://www.data8.org/\">Data 8: The Foundations of Data Science</a> offered by the University of California, Berkeley.\n",
    "\n",
    "<img src=\"./by-nc-sa.png\" width=100px>"
   ]
  },
  {
   "cell_type": "markdown",
   "id": "0413cb0a",
   "metadata": {
    "deletable": false,
    "editable": false
   },
   "source": [
    "---\n",
    "\n",
    "To double-check your work, the cell below will rerun all of the autograder tests."
   ]
  },
  {
   "cell_type": "code",
   "execution_count": null,
   "id": "eb647082",
   "metadata": {
    "deletable": false,
    "editable": false
   },
   "outputs": [],
   "source": [
    "grader.check_all()"
   ]
  }
 ],
 "metadata": {
  "kernelspec": {
   "display_name": "Python 3 (ipykernel)",
   "language": "python",
   "name": "python3"
  },
  "language_info": {
   "codemirror_mode": {
    "name": "ipython",
    "version": 3
   },
   "file_extension": ".py",
   "mimetype": "text/x-python",
   "name": "python",
   "nbconvert_exporter": "python",
   "pygments_lexer": "ipython3",
   "version": "3.11.11"
  },
  "otter": {
   "OK_FORMAT": true,
   "assignment_name": "project1_fa25",
   "tests": {
    "task_1_1": {
     "name": "task_1_1",
     "points": 2,
     "suites": [
      {
       "cases": [
        {
         "code": ">>> isinstance(max_heart_death_rate_year, int) and 1900 <= max_heart_death_rate_year <= 2023\nTrue",
         "failure_message": "\"❌ max_heart_death_rate_year should be an integer between 1900 and 2023, inclusive.\"",
         "hidden": false,
         "locked": false,
         "points": 1,
         "success_message": "\"✅ max_heart_death_rate_year is an integer between 1900 and 2023, inclusive.\"\n"
        }
       ],
       "scored": true,
       "setup": "",
       "teardown": "",
       "type": "doctest"
      }
     ]
    },
    "task_1_2": {
     "name": "task_1_2",
     "points": 2,
     "suites": [
      {
       "cases": [
        {
         "code": ">>> callable(first)\nTrue",
         "failure_message": "\"❌ first should be callable\"",
         "hidden": false,
         "locked": false,
         "points": 0.5,
         "success_message": "\"✅ first is callable\"\n"
        },
        {
         "code": ">>> first(make_array(1, 2, 3)) == 1\nTrue",
         "failure_message": "\"❌ first did not pass our test case.\"",
         "hidden": false,
         "locked": false,
         "points": 0.5,
         "success_message": "\"✅ first passed our test case.\"\n"
        }
       ],
       "scored": true,
       "setup": "",
       "teardown": "",
       "type": "doctest"
      }
     ]
    },
    "task_1_3": {
     "name": "task_1_3",
     "points": 3,
     "suites": [
      {
       "cases": [
        {
         "code": ">>> isinstance(causes_for_plotting, Table)\nTrue",
         "failure_message": "\"❌ causes_for_plotting should be a Table.\"",
         "hidden": false,
         "locked": false,
         "points": 0.5,
         "success_message": "\"✅ causes_for_plotting is a Table.\"\n"
        },
        {
         "code": ">>> causes_for_plotting.row(0)\nRow(Year=1900, Cancer=114.8, Heart Disease=265.39999999999998, Stroke=244.19999999999999, Unintentional Injuries=90.299999999999997)",
         "failure_message": "\"❌ The first row of causes_for_plotting is not correct.\"",
         "hidden": false,
         "locked": false,
         "points": 0.5,
         "success_message": "\"✅ The first row of causes_for_plotting is correct.\"\n"
        }
       ],
       "scored": true,
       "setup": "",
       "teardown": "",
       "type": "doctest"
      }
     ]
    },
    "task_2_1": {
     "name": "task_2_1",
     "points": 2,
     "suites": [
      {
       "cases": [
        {
         "code": ">>> framingham_design in {1, 2, 3, 4, 5}\nTrue",
         "failure_message": "\"❌ framingham_design was not assigned to a possible value.\"",
         "hidden": false,
         "locked": false,
         "points": 1,
         "success_message": "\"✅ framingham_design was assigned to a possible value.\"\n"
        }
       ],
       "scored": true,
       "setup": "",
       "teardown": "",
       "type": "doctest"
      }
     ]
    },
    "task_2_2": {
     "name": "task_2_2",
     "points": 3,
     "suites": [
      {
       "cases": [
        {
         "code": ">>> isinstance(framingham, Table)\nTrue",
         "failure_message": "\"❌ framingham should still be a Table.\"",
         "hidden": false,
         "locked": false,
         "points": 1,
         "success_message": "\"✅ framingham is still a Table.\"\n"
        }
       ],
       "scored": true,
       "setup": "",
       "teardown": "",
       "type": "doctest"
      }
     ]
    },
    "task_2_3": {
     "name": "task_2_3",
     "points": 4,
     "suites": [
      {
       "cases": [
        {
         "code": ">>> isinstance(framingham_by_id, Table)\nTrue",
         "failure_message": "\"❌ framingham_by_id should be a Table.\"",
         "hidden": false,
         "locked": false,
         "points": 1,
         "success_message": "\"✅ framingham_by_id is a Table.\"\n"
        }
       ],
       "scored": true,
       "setup": "",
       "teardown": "",
       "type": "doctest"
      }
     ]
    },
    "task_2_5": {
     "name": "task_2_5",
     "points": 4,
     "suites": [
      {
       "cases": [
        {
         "code": ">>> callable(compute_framingham_test_statistic)\nTrue",
         "failure_message": "\"❌ compute_framingham_test_statistic is not callable.\"",
         "hidden": false,
         "locked": false,
         "points": 0.5,
         "success_message": "\"✅ compute_framingham_test_statistic is callable.\"\n"
        },
        {
         "code": ">>> import numbers\n>>> isinstance(compute_framingham_test_statistic(framingham_by_id), numbers.Number)\nTrue",
         "failure_message": "\"❌ compute_framingham_test_statistic does not return a numerical value.\"",
         "hidden": false,
         "locked": false,
         "points": 0.5,
         "success_message": "\"✅ compute_framingham_test_statistic returns a numerical value.\"\n"
        }
       ],
       "scored": true,
       "setup": "",
       "teardown": "",
       "type": "doctest"
      }
     ]
    },
    "task_2_6": {
     "name": "task_2_6",
     "points": 3,
     "suites": [
      {
       "cases": [
        {
         "code": ">>> callable(simulate_framingham_null)\nTrue",
         "failure_message": "\"❌ simulate_framingham_null is not callable.\"",
         "hidden": false,
         "locked": false,
         "points": 0.5,
         "success_message": "\"✅ simulate_framingham_null is callable.\"\n"
        },
        {
         "code": ">>> import numbers\n>>> isinstance(simulate_framingham_null(framingham_by_id), numbers.Number)\nTrue",
         "failure_message": "\"❌ simulate_framingham_null does not produce a numerical value.\"",
         "hidden": false,
         "locked": false,
         "points": 0.5,
         "success_message": "\"✅ simulate_framingham_null produces a numerical value.\"\n"
        }
       ],
       "scored": true,
       "setup": "",
       "teardown": "",
       "type": "doctest"
      }
     ]
    },
    "task_2_7": {
     "name": "task_2_7",
     "points": 3,
     "suites": [
      {
       "cases": [
        {
         "code": ">>> callable(simulate_n)\nTrue",
         "failure_message": "\"❌ simulate_n is not callable.\"",
         "hidden": false,
         "locked": false,
         "points": 0.5,
         "success_message": "\"✅ simulate_n is callable.\"\n"
        },
        {
         "code": ">>> isinstance(simulate_n(5, framingham_by_id), np.ndarray)\nTrue",
         "failure_message": "\"❌ simulate_n returns an array.\"",
         "hidden": false,
         "locked": false,
         "points": 0.5,
         "success_message": "\"✅ simulate_n returns an array.\"\n"
        },
        {
         "code": ">>> isinstance(framingham_simulated_stats, np.ndarray)\nTrue",
         "failure_message": "\"❌ framingham_simulated_stats is not assigned to an array.\"",
         "hidden": false,
         "locked": false,
         "points": 0.5,
         "success_message": "\"✅ framingham_simulated_stats is assigned to an array.\"\n"
        }
       ],
       "scored": true,
       "setup": "",
       "teardown": "",
       "type": "doctest"
      }
     ]
    },
    "task_2_8": {
     "name": "task_2_8",
     "points": 2,
     "suites": [
      {
       "cases": [
        {
         "code": ">>> import numbers\n>>> isinstance(framingham_p_value, numbers.Number)\nTrue",
         "failure_message": "\"❌ \"",
         "hidden": false,
         "locked": false,
         "points": 1,
         "success_message": "\"✅ \"\n"
        }
       ],
       "scored": true,
       "setup": "",
       "teardown": "",
       "type": "doctest"
      }
     ]
    },
    "task_2_9": {
     "name": "task_2_9",
     "points": 2,
     "suites": [
      {
       "cases": [
        {
         "code": ">>> isinstance(CVD_causation, bool)\nTrue",
         "failure_message": "\"❌ CVD_causation is not assigned to True or False.\"",
         "hidden": false,
         "locked": false,
         "points": 1,
         "success_message": "\"✅ CVD_causation is assigned to True or False.\"\n"
        }
       ],
       "scored": true,
       "setup": "",
       "teardown": "",
       "type": "doctest"
      }
     ]
    },
    "task_3_1": {
     "name": "task_3_1",
     "points": 2,
     "suites": [
      {
       "cases": [
        {
         "code": ">>> nation_diet_heart_design in {1, 2, 3, 4, 5}\nTrue",
         "failure_message": "\"❌ nation_diet_heart_design was not assigned to a possible value.\"",
         "hidden": false,
         "locked": false,
         "points": 1,
         "success_message": "\"✅ nation_diet_heart_design was assigned to a possible value.\"\n"
        }
       ],
       "scored": true,
       "setup": "",
       "teardown": "",
       "type": "doctest"
      }
     ]
    },
    "task_3_2": {
     "name": "task_3_2",
     "points": 3,
     "suites": [
      {
       "cases": [
        {
         "code": ">>> isinstance(summed_data, Table)\nTrue",
         "failure_message": "\"❌ summed_data should be a Table.\"",
         "hidden": false,
         "locked": false,
         "points": 1,
         "success_message": "\"✅ summed_data is a Table.\"\n"
        }
       ],
       "scored": true,
       "setup": "",
       "teardown": "",
       "type": "doctest"
      }
     ]
    },
    "task_3_3": {
     "name": "task_3_3",
     "points": 3,
     "suites": [
      {
       "cases": [
        {
         "code": ">>> isinstance(summed_hazard_data, Table)\nTrue",
         "failure_message": "\"❌ summed_hazard_data should be a Table.\"",
         "hidden": false,
         "locked": false,
         "points": 1,
         "success_message": "\"✅ summed_hazard_data is a Table.\"\n"
        }
       ],
       "scored": true,
       "setup": "",
       "teardown": "",
       "type": "doctest"
      }
     ]
    },
    "task_3_4": {
     "name": "task_3_4",
     "points": 3,
     "suites": [
      {
       "cases": [
        {
         "code": ">>> callable(compute_death_rate_test_statistic)\nTrue",
         "failure_message": "\"❌ compute_hazard_difference is not callable.\"",
         "hidden": false,
         "locked": false,
         "points": 0.5,
         "success_message": "\"✅ compute_hazard_difference is callable.\"\n"
        },
        {
         "code": ">>> import numbers\n>>> test_death_stat1 = compute_death_rate_test_statistic(national_diet_heart)\n>>> isinstance(test_death_stat1, numbers.Number)\nTrue",
         "failure_message": "\"❌ compute_death_rate_test_statistic does not return a numerical value.\"",
         "hidden": false,
         "locked": false,
         "points": 0.25,
         "success_message": "\"✅ compute_death_rate_test_statistic returns a numerical value.\"\n"
        },
        {
         "code": ">>> import numbers\n>>> isinstance(observed_death_rate_statistic, numbers.Number)\nTrue",
         "failure_message": "\"❌ cdeath_rate_observed_statistic should be assigned to a numerical value.\"",
         "hidden": false,
         "locked": false,
         "points": 0.25,
         "success_message": "\"✅ cdeath_rate_observed_statistic is assigned to a numerical value.\"\n"
        }
       ],
       "scored": true,
       "setup": "",
       "teardown": "",
       "type": "doctest"
      }
     ]
    },
    "task_3_5": {
     "name": "task_3_5",
     "points": 4,
     "suites": [
      {
       "cases": [
        {
         "code": ">>> callable(complete_test)\nTrue",
         "failure_message": "\"❌ complete_test is not callable.\"",
         "hidden": false,
         "locked": false,
         "points": 0.5,
         "success_message": "\"✅ complete_test is callable.\"\n"
        },
        {
         "code": ">>> import numbers\n>>> isinstance(complete_test(national_diet_heart), numbers.Number)\nTrue",
         "failure_message": "\"❌ complete_test should return a numerical value.\"",
         "hidden": false,
         "locked": false,
         "points": 1,
         "success_message": "\"✅ complete_test returns a numerical value.\"\n"
        },
        {
         "code": ">>> import numbers\n>>> isinstance(national_diet_heart_p_value, numbers.Number)\nTrue",
         "failure_message": "\"❌ national_diet_heart_p_value is not assigned to a numerical value.\"",
         "hidden": false,
         "locked": false,
         "points": 0.5,
         "success_message": "\"✅ national_diet_heart_p_value is assigned to a numerical value.\"\n"
        }
       ],
       "scored": true,
       "setup": "",
       "teardown": "",
       "type": "doctest"
      }
     ]
    },
    "task_3_6": {
     "name": "task_3_6",
     "points": 2,
     "suites": [
      {
       "cases": [
        {
         "code": ">>> isinstance(reject_national_diet_heart_null, (bool, np.bool))\nTrue",
         "failure_message": "\"❌ reject_national_diet_heart_null should be assigned to a bool value.\"",
         "hidden": false,
         "locked": false,
         "points": 1,
         "success_message": "\"✅ reject_national_diet_heart_null is assigned to a bool value.\"\n"
        }
       ],
       "scored": true,
       "setup": "",
       "teardown": "",
       "type": "doctest"
      }
     ]
    }
   }
  }
 },
 "nbformat": 4,
 "nbformat_minor": 5
}
